{
 "cells": [
  {
   "cell_type": "code",
   "execution_count": null,
   "metadata": {},
   "outputs": [
    {
     "name": "stdout",
     "output_type": "stream",
     "text": [
      "25 <class 'numpy.int8'>\n",
      "bool\n",
      "float16\n",
      "float32\n",
      "float64\n",
      "longdouble\n",
      "complex64\n",
      "complex128\n",
      "clongdouble\n",
      "bytes_\n",
      "str_\n",
      "void\n",
      "object_\n",
      "datetime64\n",
      "timedelta64\n",
      "int8\n",
      "byte\n",
      "uint8\n",
      "ubyte\n",
      "int16\n",
      "short\n",
      "uint16\n",
      "ushort\n",
      "intc\n",
      "uintc\n",
      "int32\n",
      "long\n",
      "uint32\n",
      "ulong\n",
      "int64\n",
      "longlong\n",
      "uint64\n",
      "ulonglong\n",
      "intp\n",
      "uintp\n",
      "double\n",
      "cdouble\n",
      "single\n",
      "csingle\n",
      "half\n",
      "bool_\n",
      "int_\n",
      "uint\n",
      "float\n",
      "complex\n",
      "object\n",
      "bytes\n",
      "a\n",
      "int\n",
      "str\n",
      "unicode\n"
     ]
    }
   ],
   "source": [
    "import numpy as np\n",
    "a = np.int8(25)\n",
    "print(a, type(a))\n",
    "np.iinfo(a)\n",
    "np.iinfo(np.int64)\n",
    "#np.finfo(np.float128)\n",
    "\n",
    "np.finfo(np.float16)\n",
    "#np.float16(4.124)\n",
    "\n",
    "\"\"\" for item in np.sctypeDict.keys():\n",
    "    print(item) \"\"\""
   ]
  }
 ],
 "metadata": {
  "kernelspec": {
   "display_name": "Python 3",
   "language": "python",
   "name": "python3"
  },
  "language_info": {
   "codemirror_mode": {
    "name": "ipython",
    "version": 3
   },
   "file_extension": ".py",
   "mimetype": "text/x-python",
   "name": "python",
   "nbconvert_exporter": "python",
   "pygments_lexer": "ipython3",
   "version": "3.13.2"
  }
 },
 "nbformat": 4,
 "nbformat_minor": 2
}
