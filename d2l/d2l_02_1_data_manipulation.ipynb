{
 "cells": [
  {
   "cell_type": "code",
   "execution_count": 1,
   "metadata": {
    "executionInfo": {
     "elapsed": 616,
     "status": "ok",
     "timestamp": 1752048528720,
     "user": {
      "displayName": "Mstislav Dobrotvorskiy",
      "userId": "02834947117157581407"
     },
     "user_tz": -180
    },
    "id": "bdNec1ARijET"
   },
   "outputs": [],
   "source": [
    "import torch"
   ]
  },
  {
   "cell_type": "markdown",
   "metadata": {},
   "source": [
    "### Data Manipulation"
   ]
  },
  {
   "cell_type": "code",
   "execution_count": 4,
   "metadata": {
    "colab": {
     "base_uri": "https://localhost:8080/"
    },
    "executionInfo": {
     "elapsed": 21,
     "status": "ok",
     "timestamp": 1751953631379,
     "user": {
      "displayName": "Mstislav Dobrotvorskiy",
      "userId": "02834947117157581407"
     },
     "user_tz": -180
    },
    "id": "pm4PtLaovPTn",
    "outputId": "4040aba8-a028-445c-84a4-078115121ee6"
   },
   "outputs": [
    {
     "name": "stdout",
     "output_type": "stream",
     "text": [
      "tensor([ 0.,  1.,  2.,  3.,  4.,  5.,  6.,  7.,  8.,  9., 10., 11.])\n",
      "12\n",
      "torch.Size([12])\n",
      "tensor([[ 0.,  1.,  2.,  3.],\n",
      "        [ 4.,  5.,  6.,  7.],\n",
      "        [ 8.,  9., 10., 11.]])\n",
      "tensor([[[0., 0., 0., 0.],\n",
      "         [0., 0., 0., 0.],\n",
      "         [0., 0., 0., 0.]],\n",
      "\n",
      "        [[0., 0., 0., 0.],\n",
      "         [0., 0., 0., 0.],\n",
      "         [0., 0., 0., 0.]]])\n",
      "tensor([[[1., 1., 1., 1.],\n",
      "         [1., 1., 1., 1.],\n",
      "         [1., 1., 1., 1.]],\n",
      "\n",
      "        [[1., 1., 1., 1.],\n",
      "         [1., 1., 1., 1.],\n",
      "         [1., 1., 1., 1.]]])\n",
      "tensor([[ 1.0301, -0.2223, -0.8402,  0.3866],\n",
      "        [-0.2550,  0.1337,  0.8542, -0.4684],\n",
      "        [ 1.8309, -1.5320,  0.1790, -2.3635]])\n",
      "tensor([[2, 1, 4, 3],\n",
      "        [1, 2, 3, 4],\n",
      "        [4, 3, 2, 1]])\n"
     ]
    }
   ],
   "source": [
    "x=torch.arange(12, dtype=torch.float32)\n",
    "print(x)\n",
    "print(x.numel())\n",
    "print(x.shape)\n",
    "X = x.reshape(3,4)\n",
    "print(X)\n",
    "z = torch.zeros((2,3,4))\n",
    "print(z)\n",
    "o = torch.ones(z.shape)\n",
    "print(o)\n",
    "r = torch.randn(3,4)\n",
    "print(r)\n",
    "t = torch.tensor([[2,1,4,3],[1,2,3,4],[4,3,2,1]])\n",
    "print(t)"
   ]
  },
  {
   "cell_type": "markdown",
   "metadata": {},
   "source": [
    "### Indexing and Slicing"
   ]
  },
  {
   "cell_type": "code",
   "execution_count": 7,
   "metadata": {
    "colab": {
     "base_uri": "https://localhost:8080/"
    },
    "executionInfo": {
     "elapsed": 66,
     "status": "ok",
     "timestamp": 1751953631444,
     "user": {
      "displayName": "Mstislav Dobrotvorskiy",
      "userId": "02834947117157581407"
     },
     "user_tz": -180
    },
    "id": "lSF1OTJJcAxL",
    "outputId": "3b666214-b76b-411a-b836-3f13125d5a94"
   },
   "outputs": [
    {
     "data": {
      "text/plain": [
       "(tensor([ 8.,  9., 10., 11.]),\n",
       " tensor([[12., 12., 12., 12.],\n",
       "         [ 8.,  9., 10., 11.]]))"
      ]
     },
     "execution_count": 7,
     "metadata": {},
     "output_type": "execute_result"
    }
   ],
   "source": [
    "X[-1], X[1:3]"
   ]
  },
  {
   "cell_type": "code",
   "execution_count": 5,
   "metadata": {
    "colab": {
     "base_uri": "https://localhost:8080/"
    },
    "executionInfo": {
     "elapsed": 80,
     "status": "ok",
     "timestamp": 1751953631517,
     "user": {
      "displayName": "Mstislav Dobrotvorskiy",
      "userId": "02834947117157581407"
     },
     "user_tz": -180
    },
    "id": "oER9VRAxcUDt",
    "outputId": "76ea6b47-d545-428d-f94f-831bfb53f6c9"
   },
   "outputs": [
    {
     "data": {
      "text/plain": [
       "tensor([[ 0.,  1.,  2.,  3.],\n",
       "        [ 4.,  5., 17.,  7.],\n",
       "        [ 8.,  9., 10., 11.]])"
      ]
     },
     "execution_count": 5,
     "metadata": {},
     "output_type": "execute_result"
    }
   ],
   "source": [
    "X[1,2]=17\n",
    "X"
   ]
  },
  {
   "cell_type": "code",
   "execution_count": 6,
   "metadata": {
    "colab": {
     "base_uri": "https://localhost:8080/"
    },
    "executionInfo": {
     "elapsed": 2,
     "status": "ok",
     "timestamp": 1751953631520,
     "user": {
      "displayName": "Mstislav Dobrotvorskiy",
      "userId": "02834947117157581407"
     },
     "user_tz": -180
    },
    "id": "cwkqGD_Qccna",
    "outputId": "34b30cdf-d1be-44a6-c8b9-9414c05c193b"
   },
   "outputs": [
    {
     "data": {
      "text/plain": [
       "tensor([[12., 12., 12., 12.],\n",
       "        [12., 12., 12., 12.],\n",
       "        [ 8.,  9., 10., 11.]])"
      ]
     },
     "execution_count": 6,
     "metadata": {},
     "output_type": "execute_result"
    }
   ],
   "source": [
    "X[:2,:]=12\n",
    "X"
   ]
  },
  {
   "cell_type": "markdown",
   "metadata": {},
   "source": [
    "### Operations"
   ]
  },
  {
   "cell_type": "code",
   "execution_count": null,
   "metadata": {
    "colab": {
     "base_uri": "https://localhost:8080/"
    },
    "executionInfo": {
     "elapsed": 28,
     "status": "ok",
     "timestamp": 1751953631571,
     "user": {
      "displayName": "Mstislav Dobrotvorskiy",
      "userId": "02834947117157581407"
     },
     "user_tz": -180
    },
    "id": "et58qMzEufOf",
    "outputId": "f265fa2f-100d-42e9-d8ee-905c30757cfc"
   },
   "outputs": [],
   "source": [
    "torch.exp(x)"
   ]
  },
  {
   "cell_type": "code",
   "execution_count": null,
   "metadata": {
    "colab": {
     "base_uri": "https://localhost:8080/"
    },
    "executionInfo": {
     "elapsed": 199,
     "status": "ok",
     "timestamp": 1751953631770,
     "user": {
      "displayName": "Mstislav Dobrotvorskiy",
      "userId": "02834947117157581407"
     },
     "user_tz": -180
    },
    "id": "CXX1Rn5pvBh5",
    "outputId": "cb408bf5-ab8c-43ce-ed52-ca3c97cbe2a3"
   },
   "outputs": [],
   "source": [
    "x = torch.tensor([1.0, 2, 4, 8])\n",
    "y = torch.tensor([2,2,2,2])\n",
    "x+y, x-y, x*y, x/y, x**y"
   ]
  },
  {
   "cell_type": "code",
   "execution_count": null,
   "metadata": {
    "colab": {
     "base_uri": "https://localhost:8080/"
    },
    "executionInfo": {
     "elapsed": 10,
     "status": "ok",
     "timestamp": 1751954156456,
     "user": {
      "displayName": "Mstislav Dobrotvorskiy",
      "userId": "02834947117157581407"
     },
     "user_tz": -180
    },
    "id": "MuvINn0iwuaq",
    "outputId": "a78ea687-fcc3-4814-f540-4bffd43c73e9"
   },
   "outputs": [],
   "source": [
    "X = torch.arange(12, dtype = torch.float32).reshape((3,4))\n",
    "Y = torch.tensor([[2.0, 1, 4, 3], [1, 2, 3, 4], [4, 3, 2, 1]])\n",
    "torch.cat((X, Y), dim=0), torch.cat((X, Y), dim=1)\n",
    "\n",
    "# Experimentation\n",
    "[torch.cat((X, Y), dim=d) for d in [0,1]]"
   ]
  },
  {
   "cell_type": "code",
   "execution_count": null,
   "metadata": {
    "colab": {
     "base_uri": "https://localhost:8080/"
    },
    "executionInfo": {
     "elapsed": 3,
     "status": "ok",
     "timestamp": 1751954347314,
     "user": {
      "displayName": "Mstislav Dobrotvorskiy",
      "userId": "02834947117157581407"
     },
     "user_tz": -180
    },
    "id": "wa3qPVPPnbhJ",
    "outputId": "36ec3a03-8d14-4577-97d2-2289d73cce78"
   },
   "outputs": [],
   "source": [
    "X==Y"
   ]
  },
  {
   "cell_type": "code",
   "execution_count": null,
   "metadata": {
    "colab": {
     "base_uri": "https://localhost:8080/"
    },
    "executionInfo": {
     "elapsed": 4,
     "status": "ok",
     "timestamp": 1751954172983,
     "user": {
      "displayName": "Mstislav Dobrotvorskiy",
      "userId": "02834947117157581407"
     },
     "user_tz": -180
    },
    "id": "EM2TBls9y0vH",
    "outputId": "46887c5b-7f90-4a15-bf38-a1a5fd5beeb2"
   },
   "outputs": [],
   "source": [
    "X>Y"
   ]
  },
  {
   "cell_type": "code",
   "execution_count": null,
   "metadata": {
    "colab": {
     "base_uri": "https://localhost:8080/"
    },
    "executionInfo": {
     "elapsed": 119,
     "status": "ok",
     "timestamp": 1751953632039,
     "user": {
      "displayName": "Mstislav Dobrotvorskiy",
      "userId": "02834947117157581407"
     },
     "user_tz": -180
    },
    "id": "Cc-1BJusy24Y",
    "outputId": "49c2b9f0-2043-4de5-d15b-caf0ef2ae98c"
   },
   "outputs": [],
   "source": [
    "X.sum()"
   ]
  },
  {
   "cell_type": "markdown",
   "metadata": {},
   "source": [
    "### Broadcasting"
   ]
  },
  {
   "cell_type": "code",
   "execution_count": null,
   "metadata": {
    "colab": {
     "base_uri": "https://localhost:8080/"
    },
    "executionInfo": {
     "elapsed": 5,
     "status": "ok",
     "timestamp": 1751954298033,
     "user": {
      "displayName": "Mstislav Dobrotvorskiy",
      "userId": "02834947117157581407"
     },
     "user_tz": -180
    },
    "id": "QaYgKkiwm49m",
    "outputId": "d56936ff-0959-488b-fcec-6f07e1174391"
   },
   "outputs": [],
   "source": [
    "a = torch.arange(3).reshape((3,1))\n",
    "b = torch.arange(2).reshape((1,2))\n",
    "a, b"
   ]
  },
  {
   "cell_type": "code",
   "execution_count": null,
   "metadata": {
    "colab": {
     "base_uri": "https://localhost:8080/"
    },
    "executionInfo": {
     "elapsed": 36,
     "status": "ok",
     "timestamp": 1751954321105,
     "user": {
      "displayName": "Mstislav Dobrotvorskiy",
      "userId": "02834947117157581407"
     },
     "user_tz": -180
    },
    "id": "FjUmo1zYnVCq",
    "outputId": "311eea35-0d0b-48e3-bfd3-244c48e7f040"
   },
   "outputs": [],
   "source": [
    "a + b"
   ]
  },
  {
   "cell_type": "code",
   "execution_count": null,
   "metadata": {
    "colab": {
     "base_uri": "https://localhost:8080/"
    },
    "executionInfo": {
     "elapsed": 26,
     "status": "ok",
     "timestamp": 1751993096992,
     "user": {
      "displayName": "Mstislav Dobrotvorskiy",
      "userId": "02834947117157581407"
     },
     "user_tz": -180
    },
    "id": "VHNQbS9DnoxH",
    "outputId": "1c261868-331b-44ae-9621-8ca7734e99a2"
   },
   "outputs": [],
   "source": [
    "# Experimentation\n",
    "\n",
    "a = torch.arange(6).reshape((3,1,2))\n",
    "b = torch.arange(2).reshape((1,2,1))\n",
    "a, b, a+b"
   ]
  },
  {
   "cell_type": "markdown",
   "metadata": {},
   "source": [
    "### Saving Memory"
   ]
  },
  {
   "cell_type": "code",
   "execution_count": null,
   "metadata": {
    "colab": {
     "base_uri": "https://localhost:8080/"
    },
    "executionInfo": {
     "elapsed": 2,
     "status": "ok",
     "timestamp": 1751953632042,
     "user": {
      "displayName": "Mstislav Dobrotvorskiy",
      "userId": "02834947117157581407"
     },
     "user_tz": -180
    },
    "id": "JQgDFI8tiHvK",
    "outputId": "2aa4c37e-9f46-4098-f6e1-8cca1649ed45"
   },
   "outputs": [],
   "source": [
    "before = id(Y)\n",
    "Y = Y+X\n",
    "id(Y) == before"
   ]
  },
  {
   "cell_type": "code",
   "execution_count": null,
   "metadata": {
    "colab": {
     "base_uri": "https://localhost:8080/"
    },
    "executionInfo": {
     "elapsed": 2,
     "status": "ok",
     "timestamp": 1751953632054,
     "user": {
      "displayName": "Mstislav Dobrotvorskiy",
      "userId": "02834947117157581407"
     },
     "user_tz": -180
    },
    "id": "V_QBLrZ3i0mh",
    "outputId": "1c1a2321-e0fe-44aa-e40b-a4a0ea28060c"
   },
   "outputs": [],
   "source": [
    "Z = torch.zeros_like(Y)\n",
    "print(\"id(Z):\", id(Z))\n",
    "Z[:] = X+Y\n",
    "print(\"id(Z):\", id(Z))\n"
   ]
  },
  {
   "cell_type": "code",
   "execution_count": null,
   "metadata": {
    "colab": {
     "base_uri": "https://localhost:8080/"
    },
    "executionInfo": {
     "elapsed": 42,
     "status": "ok",
     "timestamp": 1751953638187,
     "user": {
      "displayName": "Mstislav Dobrotvorskiy",
      "userId": "02834947117157581407"
     },
     "user_tz": -180
    },
    "id": "0c0EmSvpjwy7",
    "outputId": "ad60133d-8a72-4226-91d8-73536f50df95"
   },
   "outputs": [],
   "source": [
    "before = id(X)\n",
    "X += Y\n",
    "id(X) == before"
   ]
  },
  {
   "cell_type": "markdown",
   "metadata": {},
   "source": [
    "### Conversion to Other Python Objects"
   ]
  },
  {
   "cell_type": "code",
   "execution_count": 8,
   "metadata": {},
   "outputs": [
    {
     "data": {
      "text/plain": [
       "(numpy.ndarray, torch.Tensor)"
      ]
     },
     "execution_count": 8,
     "metadata": {},
     "output_type": "execute_result"
    }
   ],
   "source": [
    "A = X.numpy()\n",
    "B = torch.from_numpy(A)\n",
    "type(A), type(B)"
   ]
  },
  {
   "cell_type": "code",
   "execution_count": 9,
   "metadata": {},
   "outputs": [
    {
     "data": {
      "text/plain": [
       "(tensor([3.5000]), 3.5, 3.5, 3)"
      ]
     },
     "execution_count": 9,
     "metadata": {},
     "output_type": "execute_result"
    }
   ],
   "source": [
    "a = torch.tensor([3.5])\n",
    "a, a.item(), float(a), int(a)"
   ]
  }
 ],
 "metadata": {
  "colab": {
   "authorship_tag": "ABX9TyNynqxBNEZgWJly7eCD78+T",
   "provenance": []
  },
  "kernelspec": {
   "display_name": "Python 3",
   "name": "python3"
  },
  "language_info": {
   "codemirror_mode": {
    "name": "ipython",
    "version": 3
   },
   "file_extension": ".py",
   "mimetype": "text/x-python",
   "name": "python",
   "nbconvert_exporter": "python",
   "pygments_lexer": "ipython3",
   "version": "3.13.2"
  }
 },
 "nbformat": 4,
 "nbformat_minor": 0
}
